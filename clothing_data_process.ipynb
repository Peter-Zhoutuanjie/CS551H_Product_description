{
 "cells": [
  {
   "cell_type": "code",
   "execution_count": 1,
   "id": "0ede1cef",
   "metadata": {},
   "outputs": [],
   "source": [
    "import pandas as pd\n",
    "from bs4 import BeautifulSoup\n",
    "import json\n",
    "import csv\n",
    "import numpy as np"
   ]
  },
  {
   "cell_type": "code",
   "execution_count": 5,
   "id": "bcc579de",
   "metadata": {},
   "outputs": [
    {
     "name": "stderr",
     "output_type": "stream",
     "text": [
      "/var/folders/c7/9svjb46d4l14sh2yf88h65bh0000gn/T/ipykernel_47207/228800613.py:1: FutureWarning: The error_bad_lines argument has been deprecated and will be removed in a future version. Use on_bad_lines in the future.\n",
      "\n",
      "\n",
      "  df = pd.read_csv('Women_s_Black_Crew_Neck_Basic_Cotton_Tshirt _ Boohoo_UK.csv', error_bad_lines=False)\n"
     ]
    }
   ],
   "source": [
    "\n",
    "\n",
    "df = pd.read_csv('Women_s_Black_Crew_Neck_Basic_Cotton_Tshirt _ Boohoo_UK.csv', error_bad_lines=False)\n",
    "\n",
    "# trim whitespace from all cells\n",
    "# df = df.applymap(lambda x: x.strip() if isinstance(x, str) else x)\n",
    "# df.insert(1, 'gender', 'female')\n",
    "df.replace('', np.nan, inplace=True)\n",
    "df['attributes'] = df['attributes'].fillna('NA')\n",
    "df['desc'] = df['desc'].fillna('NA')\n",
    "df.dropna(subset=['colour', 'price', 'category'], how='all', inplace=True)\n",
    "df\n",
    "\n",
    "df.to_csv('Women_s_Black_Crew_Neck_Basic_Cotton_Tshirt _ Boohoo_UK_processed.csv', index=False)  "
   ]
  },
  {
   "cell_type": "code",
   "execution_count": 3,
   "id": "573e6fa1",
   "metadata": {},
   "outputs": [
    {
     "data": {
      "text/html": [
       "<div>\n",
       "<style scoped>\n",
       "    .dataframe tbody tr th:only-of-type {\n",
       "        vertical-align: middle;\n",
       "    }\n",
       "\n",
       "    .dataframe tbody tr th {\n",
       "        vertical-align: top;\n",
       "    }\n",
       "\n",
       "    .dataframe thead th {\n",
       "        text-align: right;\n",
       "    }\n",
       "</style>\n",
       "<table border=\"1\" class=\"dataframe\">\n",
       "  <thead>\n",
       "    <tr style=\"text-align: right;\">\n",
       "      <th></th>\n",
       "      <th>name</th>\n",
       "      <th>gender</th>\n",
       "      <th>attributes</th>\n",
       "      <th>colour</th>\n",
       "      <th>price</th>\n",
       "      <th>category</th>\n",
       "      <th>desc</th>\n",
       "    </tr>\n",
       "  </thead>\n",
       "  <tbody>\n",
       "    <tr>\n",
       "      <th>count</th>\n",
       "      <td>1802</td>\n",
       "      <td>1802</td>\n",
       "      <td>1802</td>\n",
       "      <td>1802</td>\n",
       "      <td>1802</td>\n",
       "      <td>1801</td>\n",
       "      <td>1802</td>\n",
       "    </tr>\n",
       "    <tr>\n",
       "      <th>unique</th>\n",
       "      <td>1636</td>\n",
       "      <td>1</td>\n",
       "      <td>375</td>\n",
       "      <td>146</td>\n",
       "      <td>50</td>\n",
       "      <td>111</td>\n",
       "      <td>334</td>\n",
       "    </tr>\n",
       "    <tr>\n",
       "      <th>top</th>\n",
       "      <td>Petite Woven Long Sleeve Shirt</td>\n",
       "      <td>female</td>\n",
       "      <td>NA</td>\n",
       "      <td>black</td>\n",
       "      <td>£15.00</td>\n",
       "      <td>DRESSES</td>\n",
       "      <td>Introducing your new fave top from our latest ...</td>\n",
       "    </tr>\n",
       "    <tr>\n",
       "      <th>freq</th>\n",
       "      <td>5</td>\n",
       "      <td>1802</td>\n",
       "      <td>521</td>\n",
       "      <td>433</td>\n",
       "      <td>224</td>\n",
       "      <td>172</td>\n",
       "      <td>128</td>\n",
       "    </tr>\n",
       "  </tbody>\n",
       "</table>\n",
       "</div>"
      ],
      "text/plain": [
       "                                  name  gender attributes colour   price  \\\n",
       "count                             1802    1802       1802   1802    1802   \n",
       "unique                            1636       1        375    146      50   \n",
       "top     Petite Woven Long Sleeve Shirt  female         NA  black  £15.00   \n",
       "freq                                 5    1802        521    433     224   \n",
       "\n",
       "       category                                               desc  \n",
       "count      1801                                               1802  \n",
       "unique      111                                                334  \n",
       "top     DRESSES  Introducing your new fave top from our latest ...  \n",
       "freq        172                                                128  "
      ]
     },
     "execution_count": 3,
     "metadata": {},
     "output_type": "execute_result"
    }
   ],
   "source": [
    "df.describe()"
   ]
  },
  {
   "cell_type": "code",
   "execution_count": 6,
   "id": "1518366f",
   "metadata": {},
   "outputs": [
    {
     "name": "stdout",
     "output_type": "stream",
     "text": [
      "<class 'pandas.core.frame.DataFrame'>\n",
      "Int64Index: 1802 entries, 0 to 1816\n",
      "Data columns (total 7 columns):\n",
      " #   Column      Non-Null Count  Dtype \n",
      "---  ------      --------------  ----- \n",
      " 0   name        1802 non-null   object\n",
      " 1   gender      1802 non-null   object\n",
      " 2   attributes  1802 non-null   object\n",
      " 3   colour      1802 non-null   object\n",
      " 4   price       1802 non-null   object\n",
      " 5   category    1801 non-null   object\n",
      " 6   desc        1802 non-null   object\n",
      "dtypes: object(7)\n",
      "memory usage: 112.6+ KB\n"
     ]
    }
   ],
   "source": [
    "df.info()"
   ]
  },
  {
   "cell_type": "code",
   "execution_count": 16,
   "id": "d4a3689f",
   "metadata": {},
   "outputs": [
    {
     "name": "stdout",
     "output_type": "stream",
     "text": [
      "94\n"
     ]
    }
   ],
   "source": [
    "cell_lengths = df['colour'].str.len()\n",
    "\n",
    "# Get the length of the longest cell in the 'col1' column\n",
    "max_length = cell_lengths.max()\n",
    "\n",
    "print(max_length)"
   ]
  },
  {
   "cell_type": "code",
   "execution_count": null,
   "id": "8b1ef7bd",
   "metadata": {},
   "outputs": [],
   "source": []
  }
 ],
 "metadata": {
  "kernelspec": {
   "display_name": "Python 3 (ipykernel)",
   "language": "python",
   "name": "python3"
  },
  "language_info": {
   "codemirror_mode": {
    "name": "ipython",
    "version": 3
   },
   "file_extension": ".py",
   "mimetype": "text/x-python",
   "name": "python",
   "nbconvert_exporter": "python",
   "pygments_lexer": "ipython3",
   "version": "3.10.9"
  }
 },
 "nbformat": 4,
 "nbformat_minor": 5
}
