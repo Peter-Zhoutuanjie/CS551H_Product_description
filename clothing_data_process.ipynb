{
 "cells": [
  {
   "cell_type": "code",
   "execution_count": 6,
   "id": "0ede1cef",
   "metadata": {},
   "outputs": [],
   "source": [
    "import pandas as pd\n",
    "from bs4 import BeautifulSoup\n",
    "import json\n",
    "import csv\n",
    "import numpy as np"
   ]
  },
  {
   "cell_type": "code",
   "execution_count": 7,
   "id": "bcc579de",
   "metadata": {},
   "outputs": [
    {
     "name": "stderr",
     "output_type": "stream",
     "text": [
      "/var/folders/c7/9svjb46d4l14sh2yf88h65bh0000gn/T/ipykernel_38826/1303755579.py:1: FutureWarning: The error_bad_lines argument has been deprecated and will be removed in a future version. Use on_bad_lines in the future.\n",
      "\n",
      "\n",
      "  df = pd.read_csv('data_20230301.csv', error_bad_lines=False)\n"
     ]
    }
   ],
   "source": [
    "\n",
    "\n",
    "df = pd.read_csv('data_20230301.csv', error_bad_lines=False)\n",
    "\n",
    "# trim whitespace from all cells\n",
    "df = df.applymap(lambda x: x.strip() if isinstance(x, str) else x)\n",
    "# df.insert(1, 'gender', 'female')\n",
    "df.replace('', np.nan, inplace=True)\n",
    "df['attributes'] = df['attributes'].fillna('NA')\n",
    "df['desc'] = df['desc'].fillna('NA')\n",
    "df.dropna(subset=['colour', 'price', 'category'], how='all', inplace=True)\n",
    "df\n",
    "\n",
    "df.to_csv('Women_Boohoo_UK_processed2.csv', index=False)  "
   ]
  },
  {
   "cell_type": "code",
   "execution_count": 8,
   "id": "573e6fa1",
   "metadata": {},
   "outputs": [
    {
     "data": {
      "text/html": [
       "<div>\n",
       "<style scoped>\n",
       "    .dataframe tbody tr th:only-of-type {\n",
       "        vertical-align: middle;\n",
       "    }\n",
       "\n",
       "    .dataframe tbody tr th {\n",
       "        vertical-align: top;\n",
       "    }\n",
       "\n",
       "    .dataframe thead th {\n",
       "        text-align: right;\n",
       "    }\n",
       "</style>\n",
       "<table border=\"1\" class=\"dataframe\">\n",
       "  <thead>\n",
       "    <tr style=\"text-align: right;\">\n",
       "      <th></th>\n",
       "      <th>url</th>\n",
       "      <th>name</th>\n",
       "      <th>attributes</th>\n",
       "      <th>colour</th>\n",
       "      <th>price</th>\n",
       "      <th>category</th>\n",
       "      <th>desc</th>\n",
       "    </tr>\n",
       "  </thead>\n",
       "  <tbody>\n",
       "    <tr>\n",
       "      <th>count</th>\n",
       "      <td>8014</td>\n",
       "      <td>7911</td>\n",
       "      <td>8014</td>\n",
       "      <td>8005</td>\n",
       "      <td>8002</td>\n",
       "      <td>8014</td>\n",
       "      <td>8014</td>\n",
       "    </tr>\n",
       "    <tr>\n",
       "      <th>unique</th>\n",
       "      <td>8012</td>\n",
       "      <td>7087</td>\n",
       "      <td>1826</td>\n",
       "      <td>199</td>\n",
       "      <td>129</td>\n",
       "      <td>156</td>\n",
       "      <td>773</td>\n",
       "    </tr>\n",
       "    <tr>\n",
       "      <th>top</th>\n",
       "      <td>https://www.boohoo.com/petite-cheesecloth-off-...</td>\n",
       "      <td>Oversized Checked Shirt</td>\n",
       "      <td>NA</td>\n",
       "      <td>black</td>\n",
       "      <td>£18.75</td>\n",
       "      <td>DRESSES</td>\n",
       "      <td>Bring a new kinda attitude in this latest piec...</td>\n",
       "    </tr>\n",
       "    <tr>\n",
       "      <th>freq</th>\n",
       "      <td>2</td>\n",
       "      <td>10</td>\n",
       "      <td>1146</td>\n",
       "      <td>2316</td>\n",
       "      <td>873</td>\n",
       "      <td>2142</td>\n",
       "      <td>360</td>\n",
       "    </tr>\n",
       "  </tbody>\n",
       "</table>\n",
       "</div>"
      ],
      "text/plain": [
       "                                                      url  \\\n",
       "count                                                8014   \n",
       "unique                                               8012   \n",
       "top     https://www.boohoo.com/petite-cheesecloth-off-...   \n",
       "freq                                                    2   \n",
       "\n",
       "                           name attributes colour   price category  \\\n",
       "count                      7911       8014   8005    8002     8014   \n",
       "unique                     7087       1826    199     129      156   \n",
       "top     Oversized Checked Shirt         NA  black  £18.75  DRESSES   \n",
       "freq                         10       1146   2316     873     2142   \n",
       "\n",
       "                                                     desc  \n",
       "count                                                8014  \n",
       "unique                                                773  \n",
       "top     Bring a new kinda attitude in this latest piec...  \n",
       "freq                                                  360  "
      ]
     },
     "execution_count": 8,
     "metadata": {},
     "output_type": "execute_result"
    }
   ],
   "source": [
    "df.describe()"
   ]
  },
  {
   "cell_type": "code",
   "execution_count": 9,
   "id": "1518366f",
   "metadata": {},
   "outputs": [
    {
     "name": "stdout",
     "output_type": "stream",
     "text": [
      "<class 'pandas.core.frame.DataFrame'>\n",
      "Int64Index: 8014 entries, 0 to 8033\n",
      "Data columns (total 7 columns):\n",
      " #   Column      Non-Null Count  Dtype \n",
      "---  ------      --------------  ----- \n",
      " 0   url         8014 non-null   object\n",
      " 1   name        7911 non-null   object\n",
      " 2   attributes  8014 non-null   object\n",
      " 3   colour      8005 non-null   object\n",
      " 4   price       8002 non-null   object\n",
      " 5   category    8014 non-null   object\n",
      " 6   desc        8014 non-null   object\n",
      "dtypes: object(7)\n",
      "memory usage: 500.9+ KB\n"
     ]
    }
   ],
   "source": [
    "df.info()"
   ]
  },
  {
   "cell_type": "code",
   "execution_count": 10,
   "id": "d4a3689f",
   "metadata": {},
   "outputs": [
    {
     "name": "stdout",
     "output_type": "stream",
     "text": [
      "20.0\n"
     ]
    }
   ],
   "source": [
    "cell_lengths = df['colour'].str.len()\n",
    "\n",
    "# Get the length of the longest cell in the 'col1' column\n",
    "max_length = cell_lengths.max()\n",
    "\n",
    "print(max_length)"
   ]
  },
  {
   "cell_type": "code",
   "execution_count": null,
   "id": "8b1ef7bd",
   "metadata": {},
   "outputs": [],
   "source": []
  }
 ],
 "metadata": {
  "kernelspec": {
   "display_name": "Python 3 (ipykernel)",
   "language": "python",
   "name": "python3"
  },
  "language_info": {
   "codemirror_mode": {
    "name": "ipython",
    "version": 3
   },
   "file_extension": ".py",
   "mimetype": "text/x-python",
   "name": "python",
   "nbconvert_exporter": "python",
   "pygments_lexer": "ipython3",
   "version": "3.10.9"
  }
 },
 "nbformat": 4,
 "nbformat_minor": 5
}
